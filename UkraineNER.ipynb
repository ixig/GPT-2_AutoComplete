{
 "cells": [
  {
   "cell_type": "markdown",
   "id": "63bf9571",
   "metadata": {},
   "source": [
    "# Normalization of Persons & Places using NER\n",
    "## Whitelist Determination (Identifying Specific Entities of Interest)"
   ]
  },
  {
   "cell_type": "code",
   "execution_count": 1,
   "id": "09fc3f84",
   "metadata": {},
   "outputs": [],
   "source": [
    "import spacy\n",
    "import re\n",
    "from glob import glob\n",
    "from collections import Counter"
   ]
  },
  {
   "cell_type": "code",
   "execution_count": 2,
   "id": "d7985e57",
   "metadata": {},
   "outputs": [],
   "source": [
    "nlp = spacy.load('en_core_web_md')"
   ]
  },
  {
   "cell_type": "code",
   "execution_count": 3,
   "id": "8b2f43cf",
   "metadata": {},
   "outputs": [],
   "source": [
    "DATA_DIR = \"./dataset/preproc1/\"\n",
    "\n",
    "files = glob(DATA_DIR + '*.txt')"
   ]
  },
  {
   "cell_type": "code",
   "execution_count": 4,
   "id": "206aba5b",
   "metadata": {},
   "outputs": [],
   "source": [
    "def show_ents(doc):\n",
    "    if doc.ents:\n",
    "        for ent in doc.ents:\n",
    "            print(ent.text+' - '+ent.label_+' - '+str(spacy.explain(ent.label_)))\n",
    "    else:\n",
    "        print('No named entities found.')"
   ]
  },
  {
   "cell_type": "code",
   "execution_count": 5,
   "id": "429da725",
   "metadata": {},
   "outputs": [],
   "source": [
    "# Notable NER:Persons that should *NOT* be converted to \"XXX\"\n",
    "PERSONS_WHITELIST = [\n",
    "    'Vladimir V. Putin', 'Vladimir Putin', 'Putin',\n",
    "    'Volodymyr Zelensky', 'Volodymyr Zelenskyy', 'Zelensky',\n",
    "    'Biden',\n",
    "    'Xi Jinping', 'Xi',\n",
    "    'Olaf Scholz', 'Scholz',\n",
    "    'Boris Johnson', 'Johnson',\n",
    "    'Emmanuel Macron', 'Macron',\n",
    "    'Sergey V. Lavrov', 'Lavrov',\n",
    "    'Aleksei A. Navalny', 'Navalny',\n",
    "    'Jens Stoltenberg', 'Stoltenberg',\n",
    "    'Antony J. Blinken', 'Blinken',\n",
    "    'Mark A. Milley', 'Milley',\n",
    "    'Kamala Harris', 'Harris',\n",
    "    'Barack Obama', 'Obama',\n",
    "    'Donald J. Trump', 'Trump',\n",
    "    ### Misclassified as PERSON (by Spacy) ###\n",
    "    'Stinger', 'Javelin', 'Brexit', 'C.I.A.', 'Twitter', 'Mykolaiv'\n",
    "]"
   ]
  },
  {
   "cell_type": "code",
   "execution_count": 6,
   "id": "a911efa3",
   "metadata": {},
   "outputs": [],
   "source": [
    "# Notable NER:Places that should *NOT* be converted to \"YYY\"\n",
    "PLACES_WHITELIST = [\n",
    "    'U.S.', 'United States', 'Washington',\n",
    "    'Russia', 'Soviet Union', 'Moscow', 'Crimea', 'Belarus', 'Chechnya',\n",
    "    'Ukraine', 'Kyiv', 'Kharkiv', 'Lviv', 'Kherson', 'Odessa', 'Mariupol', 'Donetsk', 'Irpin', 'Mykolaiv',\n",
    "    'China', 'Beijing',\n",
    "    'Germany', 'Berlin',\n",
    "    'U.K.', 'Britain', 'London',\n",
    "    'France', 'Paris',\n",
    "    'Poland', 'Warsaw',\n",
    "    'Brussels', 'Netherlands',\n",
    "    'Lithuania', 'Romania', 'Latvia', 'Estonia', 'Moldova', 'Slovakia',\n",
    "    'Canada', 'China', 'Israel', 'Syria', 'Afghanistan', 'Iran', 'Iraq', 'North Korea',\n",
    "    ### Misclassified as PLACE (my Spacy) ###\n",
    "    'Ukrainian'\n",
    "]"
   ]
  },
  {
   "cell_type": "code",
   "execution_count": 7,
   "id": "0a75c672",
   "metadata": {},
   "outputs": [],
   "source": [
    "pa_apostr = re.compile(r\"(.+)'s\")\n",
    "\n",
    "def process_persons(doc, persons):\n",
    "    for ent in doc.ents:\n",
    "        if ent.label != 380: continue\n",
    "        text = ent.text\n",
    "        if m := pa_apostr.match(text):\n",
    "            text = m.group(1)\n",
    "        if not text in PERSONS_WHITELIST:\n",
    "            persons.update([ent.text])"
   ]
  },
  {
   "cell_type": "code",
   "execution_count": 8,
   "id": "8f986e8b",
   "metadata": {},
   "outputs": [],
   "source": [
    "pa_the = re.compile(r\"the (.+)\")\n",
    "places_whitelist = [place.lower() for place in PLACES_WHITELIST]\n",
    "\n",
    "def process_places(doc, places):\n",
    "    for ent in doc.ents:\n",
    "        if ent.label != 384: continue\n",
    "        text = ent.text.lower()\n",
    "        if m := pa_the.match(text):\n",
    "            text = m.group(1)\n",
    "        if not text in places_whitelist:\n",
    "            places.update([ent.text])"
   ]
  },
  {
   "cell_type": "code",
   "execution_count": 9,
   "id": "ed05dd4e",
   "metadata": {},
   "outputs": [
    {
     "name": "stdout",
     "output_type": "stream",
     "text": [
      "............................................................"
     ]
    }
   ],
   "source": [
    "persons = Counter()\n",
    "places = Counter()\n",
    "\n",
    "for file in files:\n",
    "    with open(file) as f:\n",
    "        # print(file.split('/')[-1])\n",
    "        print('.', end='')\n",
    "        text = f.read()\n",
    "        doc = nlp(text)\n",
    "        process_persons(doc, persons)\n",
    "        process_places(doc, places)"
   ]
  },
  {
   "cell_type": "markdown",
   "id": "0a1ff1a7",
   "metadata": {},
   "source": [
    "## Remaining Person Enties (will be Normalized to 'XXX')"
   ]
  },
  {
   "cell_type": "code",
   "execution_count": 10,
   "id": "083ff2f9",
   "metadata": {},
   "outputs": [
    {
     "data": {
      "text/plain": [
       "[('Albagir', 14),\n",
       " ('Kim', 12),\n",
       " ('Sullivan', 11),\n",
       " ('Stetsenko', 11),\n",
       " ('Maslova', 10),\n",
       " ('Lebedev', 9),\n",
       " ('Burns', 9),\n",
       " ('Novaya Gazeta', 8),\n",
       " ('Venediktov', 7),\n",
       " ('Jen Psaki', 6),\n",
       " ('Naftali Bennett', 6),\n",
       " ('Kushnir', 6),\n",
       " ('Kovalchuk', 6),\n",
       " ('Sindeyeva', 6),\n",
       " ('Lloyd J. Austin III', 5),\n",
       " ('Smetana', 5),\n",
       " ('Jake Sullivan', 5),\n",
       " ('Yashenko', 5),\n",
       " ('Poterek', 5),\n",
       " ('Lutsk', 5),\n",
       " ('Vitali Klitschko', 4),\n",
       " ('Morawiecki', 4),\n",
       " ('Andryushchenko', 4),\n",
       " ('Ursula von der', 4),\n",
       " ('Leyen', 4),\n",
       " ('Bernstam', 4),\n",
       " ('Zelenskyy', 4),\n",
       " ('Melitopol', 4),\n",
       " ('Kovalensky', 4),\n",
       " ('Chernihiv', 4),\n",
       " ('Yang', 4),\n",
       " ('Aleksandr G. Lukashenko', 4),\n",
       " ('Bennett', 4),\n",
       " ('Kolykhaev', 4),\n",
       " ('Grandi', 4),\n",
       " ('Watling', 4),\n",
       " ('Ania', 4),\n",
       " ('Oleksiy Arestovich', 4),\n",
       " ('Roskomnadzor', 4),\n",
       " ('Igor Konashenkov', 3)]"
      ]
     },
     "execution_count": 10,
     "metadata": {},
     "output_type": "execute_result"
    }
   ],
   "source": [
    "persons.most_common(40)"
   ]
  },
  {
   "cell_type": "markdown",
   "id": "2b385534",
   "metadata": {},
   "source": [
    "## Remaining Places Enties (will be Normalized to 'YYY')"
   ]
  },
  {
   "cell_type": "code",
   "execution_count": 11,
   "id": "b35b25bd",
   "metadata": {},
   "outputs": [
    {
     "data": {
      "text/plain": [
       "[('Hungary', 11),\n",
       " ('Georgia', 10),\n",
       " ('Istanbul', 8),\n",
       " ('Venezuela', 7),\n",
       " ('Sumy', 6),\n",
       " ('Rome', 6),\n",
       " ('Turkey', 6),\n",
       " ('Sweden', 6),\n",
       " ('the Czech Republic', 5),\n",
       " ('Bulgaria', 5),\n",
       " ('Taiwan', 5),\n",
       " ('Australia', 5),\n",
       " ('Soviet republic', 5),\n",
       " ('Novoyavorivsk', 5),\n",
       " ('Switzerland', 5),\n",
       " ('Lutsk', 5),\n",
       " ('Munich', 4),\n",
       " ('Madrid', 4),\n",
       " ('Geneva', 4),\n",
       " ('Italy', 4),\n",
       " ('Japan', 4),\n",
       " ('Finland', 4),\n",
       " ('America', 4),\n",
       " ('the Russian Federation', 3),\n",
       " ('Slovenia', 3),\n",
       " ('Siret', 3),\n",
       " (\"the Soviet Union's\", 3),\n",
       " ('Norway', 3),\n",
       " ('Berdyansk', 3),\n",
       " ('Donbas', 3),\n",
       " ('Luhansk', 3),\n",
       " ('Prague', 3),\n",
       " ('Gazprom', 3),\n",
       " ('Sudan', 3),\n",
       " ('St. Petersburg', 3),\n",
       " ('Pakistan', 3),\n",
       " ('Jerusalem', 3),\n",
       " ('Pennsylvania', 3),\n",
       " ('Cherkasy', 3),\n",
       " ('New York', 2)]"
      ]
     },
     "execution_count": 11,
     "metadata": {},
     "output_type": "execute_result"
    }
   ],
   "source": [
    "places.most_common(40)"
   ]
  },
  {
   "cell_type": "code",
   "execution_count": null,
   "id": "6f74f31c",
   "metadata": {},
   "outputs": [],
   "source": []
  }
 ],
 "metadata": {
  "kernelspec": {
   "display_name": "Python 3 (ipykernel)",
   "language": "python",
   "name": "python3"
  },
  "language_info": {
   "codemirror_mode": {
    "name": "ipython",
    "version": 3
   },
   "file_extension": ".py",
   "mimetype": "text/x-python",
   "name": "python",
   "nbconvert_exporter": "python",
   "pygments_lexer": "ipython3",
   "version": "3.9.10"
  }
 },
 "nbformat": 4,
 "nbformat_minor": 5
}
